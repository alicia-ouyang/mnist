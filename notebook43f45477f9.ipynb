{
 "cells": [
  {
   "cell_type": "code",
   "execution_count": 1,
   "id": "6a994fed",
   "metadata": {
    "_cell_guid": "b1076dfc-b9ad-4769-8c92-a6c4dae69d19",
    "_uuid": "8f2839f25d086af736a60e9eeb907d3b93b6e0e5",
    "execution": {
     "iopub.execute_input": "2023-04-28T20:07:39.231119Z",
     "iopub.status.busy": "2023-04-28T20:07:39.230718Z",
     "iopub.status.idle": "2023-04-28T20:07:39.243020Z",
     "shell.execute_reply": "2023-04-28T20:07:39.241873Z"
    },
    "papermill": {
     "duration": 0.024635,
     "end_time": "2023-04-28T20:07:39.245603",
     "exception": false,
     "start_time": "2023-04-28T20:07:39.220968",
     "status": "completed"
    },
    "tags": []
   },
   "outputs": [
    {
     "name": "stdout",
     "output_type": "stream",
     "text": [
      "/kaggle/input/digit-recognizer/sample_submission.csv\n",
      "/kaggle/input/digit-recognizer/train.csv\n",
      "/kaggle/input/digit-recognizer/test.csv\n"
     ]
    }
   ],
   "source": [
    "# This Python 3 environment comes with many helpful analytics libraries installed\n",
    "# It is defined by the kaggle/python Docker image: https://github.com/kaggle/docker-python\n",
    "# For example, here's several helpful packages to load\n",
    "\n",
    "import numpy as np # linear algebra\n",
    "import pandas as pd # data processing, CSV file I/O (e.g. pd.read_csv)\n",
    "\n",
    "# Input data files are available in the read-only \"../input/\" directory\n",
    "# For example, running this (by clicking run or pressing Shift+Enter) will list all files under the input directory\n",
    "\n",
    "import os\n",
    "for dirname, _, filenames in os.walk('/kaggle/input'):\n",
    "    for filename in filenames:\n",
    "        print(os.path.join(dirname, filename))\n",
    "\n",
    "# You can write up to 20GB to the current directory (/kaggle/working/) that gets preserved as output when you create a version using \"Save & Run All\" \n",
    "# You can also write temporary files to /kaggle/temp/, but they won't be saved outside of the current session"
   ]
  },
  {
   "cell_type": "code",
   "execution_count": 2,
   "id": "f16ffaa6",
   "metadata": {
    "execution": {
     "iopub.execute_input": "2023-04-28T20:07:39.261272Z",
     "iopub.status.busy": "2023-04-28T20:07:39.260833Z",
     "iopub.status.idle": "2023-04-28T20:07:40.692522Z",
     "shell.execute_reply": "2023-04-28T20:07:40.691441Z"
    },
    "papermill": {
     "duration": 1.44267,
     "end_time": "2023-04-28T20:07:40.695345",
     "exception": false,
     "start_time": "2023-04-28T20:07:39.252675",
     "status": "completed"
    },
    "tags": []
   },
   "outputs": [],
   "source": [
    "#importing the classes I need for different models\n",
    "from sklearn.ensemble import RandomForestClassifier\n",
    "from sklearn.linear_model import LogisticRegression\n",
    "from xgboost import XGBClassifier"
   ]
  },
  {
   "cell_type": "code",
   "execution_count": 3,
   "id": "120a9c19",
   "metadata": {
    "execution": {
     "iopub.execute_input": "2023-04-28T20:07:40.711030Z",
     "iopub.status.busy": "2023-04-28T20:07:40.710608Z",
     "iopub.status.idle": "2023-04-28T20:07:46.474261Z",
     "shell.execute_reply": "2023-04-28T20:07:46.473265Z"
    },
    "papermill": {
     "duration": 5.77447,
     "end_time": "2023-04-28T20:07:46.476857",
     "exception": false,
     "start_time": "2023-04-28T20:07:40.702387",
     "status": "completed"
    },
    "tags": []
   },
   "outputs": [],
   "source": [
    "train = pd.read_csv('/kaggle/input/digit-recognizer/train.csv')\n",
    "test = pd.read_csv('/kaggle/input/digit-recognizer/test.csv')"
   ]
  },
  {
   "cell_type": "code",
   "execution_count": 4,
   "id": "8dc34636",
   "metadata": {
    "execution": {
     "iopub.execute_input": "2023-04-28T20:07:46.492398Z",
     "iopub.status.busy": "2023-04-28T20:07:46.491641Z",
     "iopub.status.idle": "2023-04-28T20:07:46.615777Z",
     "shell.execute_reply": "2023-04-28T20:07:46.614837Z"
    },
    "papermill": {
     "duration": 0.134716,
     "end_time": "2023-04-28T20:07:46.618412",
     "exception": false,
     "start_time": "2023-04-28T20:07:46.483696",
     "status": "completed"
    },
    "tags": []
   },
   "outputs": [],
   "source": [
    "from sklearn.model_selection import train_test_split\n",
    "y_train = train.label\n",
    "X_train = train.loc[:, train.columns != 'label']"
   ]
  },
  {
   "cell_type": "code",
   "execution_count": 11,
   "id": "55a6ec05",
   "metadata": {
    "execution": {
     "iopub.execute_input": "2023-04-28T20:08:10.136106Z",
     "iopub.status.busy": "2023-04-28T20:08:10.135289Z",
     "iopub.status.idle": "2023-04-28T20:08:17.428404Z",
     "shell.execute_reply": "2023-04-28T20:08:17.427298Z"
    },
    "papermill": {
     "duration": 7.304335,
     "end_time": "2023-04-28T20:08:17.431157",
     "exception": false,
     "start_time": "2023-04-28T20:08:10.126822",
     "status": "completed"
    },
    "tags": []
   },
   "outputs": [],
   "source": [
    "import keras\n",
    "from keras.models import Sequential\n",
    "from keras.layers import Conv2D,MaxPooling2D,Dense,Flatten,Dropout\n",
    "from keras.optimizers import Adam\n",
    "from keras.callbacks import TensorBoard\n",
    "num_classes = 10\n",
    "epochs = 20"
   ]
  },
  {
   "cell_type": "code",
   "execution_count": 12,
   "id": "00ab090c",
   "metadata": {
    "execution": {
     "iopub.execute_input": "2023-04-28T20:08:17.447123Z",
     "iopub.status.busy": "2023-04-28T20:08:17.446399Z",
     "iopub.status.idle": "2023-04-28T20:08:21.803224Z",
     "shell.execute_reply": "2023-04-28T20:08:21.802044Z"
    },
    "papermill": {
     "duration": 4.36793,
     "end_time": "2023-04-28T20:08:21.806061",
     "exception": false,
     "start_time": "2023-04-28T20:08:17.438131",
     "status": "completed"
    },
    "tags": []
   },
   "outputs": [],
   "source": [
    "train_df = pd.read_csv('/kaggle/input/digit-recognizer/train.csv')\n",
    "test_df = pd.read_csv('/kaggle/input/digit-recognizer/test.csv')\n",
    "train_data = np.array(train_df, dtype = 'float32')\n",
    "test_data = np.array(test_df, dtype='float32')"
   ]
  },
  {
   "cell_type": "code",
   "execution_count": 13,
   "id": "5adc0849",
   "metadata": {
    "execution": {
     "iopub.execute_input": "2023-04-28T20:08:21.821848Z",
     "iopub.status.busy": "2023-04-28T20:08:21.821109Z",
     "iopub.status.idle": "2023-04-28T20:08:21.829271Z",
     "shell.execute_reply": "2023-04-28T20:08:21.828197Z"
    },
    "papermill": {
     "duration": 0.018596,
     "end_time": "2023-04-28T20:08:21.831660",
     "exception": false,
     "start_time": "2023-04-28T20:08:21.813064",
     "status": "completed"
    },
    "tags": []
   },
   "outputs": [
    {
     "data": {
      "text/plain": [
       "(42000, 785)"
      ]
     },
     "execution_count": 13,
     "metadata": {},
     "output_type": "execute_result"
    }
   ],
   "source": [
    "train_data.shape"
   ]
  },
  {
   "cell_type": "code",
   "execution_count": 14,
   "id": "13064b1c",
   "metadata": {
    "execution": {
     "iopub.execute_input": "2023-04-28T20:08:21.847676Z",
     "iopub.status.busy": "2023-04-28T20:08:21.846958Z",
     "iopub.status.idle": "2023-04-28T20:08:22.301038Z",
     "shell.execute_reply": "2023-04-28T20:08:22.299711Z"
    },
    "papermill": {
     "duration": 0.46545,
     "end_time": "2023-04-28T20:08:22.304102",
     "exception": false,
     "start_time": "2023-04-28T20:08:21.838652",
     "status": "completed"
    },
    "tags": []
   },
   "outputs": [],
   "source": [
    "x_train = train_data[:,1:]/255\n",
    "y_train = train_data[:,0]\n",
    "x_test= test_data[:]/255\n",
    "\n",
    "x_train,x_validate,y_train,y_validate = train_test_split(x_train,y_train,test_size = 0.2,random_state = 12345)"
   ]
  },
  {
   "cell_type": "code",
   "execution_count": 15,
   "id": "3f824de0",
   "metadata": {
    "execution": {
     "iopub.execute_input": "2023-04-28T20:08:22.320160Z",
     "iopub.status.busy": "2023-04-28T20:08:22.319771Z",
     "iopub.status.idle": "2023-04-28T20:08:22.325813Z",
     "shell.execute_reply": "2023-04-28T20:08:22.324409Z"
    },
    "papermill": {
     "duration": 0.017499,
     "end_time": "2023-04-28T20:08:22.328799",
     "exception": false,
     "start_time": "2023-04-28T20:08:22.311300",
     "status": "completed"
    },
    "tags": []
   },
   "outputs": [],
   "source": [
    "image_rows = 28\n",
    "image_cols = 28\n",
    "batch_size = 4096\n",
    "image_shape = (image_rows,image_cols,1) "
   ]
  },
  {
   "cell_type": "code",
   "execution_count": 16,
   "id": "e5bb1133",
   "metadata": {
    "execution": {
     "iopub.execute_input": "2023-04-28T20:08:22.345370Z",
     "iopub.status.busy": "2023-04-28T20:08:22.344908Z",
     "iopub.status.idle": "2023-04-28T20:08:22.353619Z",
     "shell.execute_reply": "2023-04-28T20:08:22.351776Z"
    },
    "papermill": {
     "duration": 0.019788,
     "end_time": "2023-04-28T20:08:22.355957",
     "exception": false,
     "start_time": "2023-04-28T20:08:22.336169",
     "status": "completed"
    },
    "tags": []
   },
   "outputs": [
    {
     "name": "stdout",
     "output_type": "stream",
     "text": [
      "(33600, 784)\n",
      "(28000, 784)\n"
     ]
    }
   ],
   "source": [
    "print(x_train.shape)\n",
    "print(x_test.shape)"
   ]
  },
  {
   "cell_type": "code",
   "execution_count": 17,
   "id": "6040b047",
   "metadata": {
    "execution": {
     "iopub.execute_input": "2023-04-28T20:08:22.372329Z",
     "iopub.status.busy": "2023-04-28T20:08:22.371887Z",
     "iopub.status.idle": "2023-04-28T20:08:22.379457Z",
     "shell.execute_reply": "2023-04-28T20:08:22.378214Z"
    },
    "papermill": {
     "duration": 0.018585,
     "end_time": "2023-04-28T20:08:22.381748",
     "exception": false,
     "start_time": "2023-04-28T20:08:22.363163",
     "status": "completed"
    },
    "tags": []
   },
   "outputs": [
    {
     "data": {
      "text/plain": [
       "(33600, 28, 28, 1)"
      ]
     },
     "execution_count": 17,
     "metadata": {},
     "output_type": "execute_result"
    }
   ],
   "source": [
    "x_train = x_train.reshape(x_train.shape[0],*image_shape)\n",
    "x_train.shape"
   ]
  },
  {
   "cell_type": "code",
   "execution_count": 18,
   "id": "74389e5e",
   "metadata": {
    "execution": {
     "iopub.execute_input": "2023-04-28T20:08:22.398057Z",
     "iopub.status.busy": "2023-04-28T20:08:22.397635Z",
     "iopub.status.idle": "2023-04-28T20:08:22.403705Z",
     "shell.execute_reply": "2023-04-28T20:08:22.402277Z"
    },
    "papermill": {
     "duration": 0.017064,
     "end_time": "2023-04-28T20:08:22.406037",
     "exception": false,
     "start_time": "2023-04-28T20:08:22.388973",
     "status": "completed"
    },
    "tags": []
   },
   "outputs": [],
   "source": [
    "x_train = x_train.reshape(x_train.shape[0],*image_shape)\n",
    "x_test = x_test.reshape(x_test.shape[0],*image_shape)\n",
    "x_validate = x_validate.reshape(x_validate.shape[0],*image_shape)"
   ]
  },
  {
   "cell_type": "code",
   "execution_count": 19,
   "id": "3fdb15c7",
   "metadata": {
    "execution": {
     "iopub.execute_input": "2023-04-28T20:08:22.422522Z",
     "iopub.status.busy": "2023-04-28T20:08:22.422107Z",
     "iopub.status.idle": "2023-04-28T20:08:22.823293Z",
     "shell.execute_reply": "2023-04-28T20:08:22.822125Z"
    },
    "papermill": {
     "duration": 0.413245,
     "end_time": "2023-04-28T20:08:22.826582",
     "exception": false,
     "start_time": "2023-04-28T20:08:22.413337",
     "status": "completed"
    },
    "tags": []
   },
   "outputs": [
    {
     "name": "stderr",
     "output_type": "stream",
     "text": [
      "/opt/conda/lib/python3.7/site-packages/keras/optimizers/optimizer_v2/adam.py:117: UserWarning: The `lr` argument is deprecated, use `learning_rate` instead.\n",
      "  super().__init__(name, **kwargs)\n"
     ]
    }
   ],
   "source": [
    "\n",
    "cnn_model = Sequential([\n",
    "    Conv2D(filters=32,kernel_size=3,activation='relu',input_shape = image_shape),\n",
    "    MaxPooling2D(pool_size=2) ,# down sampling the output instead of 28*28 it is 14*14\n",
    "    Dropout(0.2),\n",
    "    Flatten(), # flatten out the layers\n",
    "    Dense(32,activation='relu'),\n",
    "    Dense(10,activation = 'softmax')\n",
    "    \n",
    "])\n",
    "\n",
    "cnn_model.compile(loss ='sparse_categorical_crossentropy', optimizer=Adam(lr=0.001),metrics =['accuracy'])"
   ]
  },
  {
   "cell_type": "code",
   "execution_count": 20,
   "id": "2a0225eb",
   "metadata": {
    "execution": {
     "iopub.execute_input": "2023-04-28T20:08:22.844091Z",
     "iopub.status.busy": "2023-04-28T20:08:22.843672Z",
     "iopub.status.idle": "2023-04-28T20:21:16.861016Z",
     "shell.execute_reply": "2023-04-28T20:21:16.859654Z"
    },
    "papermill": {
     "duration": 774.029225,
     "end_time": "2023-04-28T20:21:16.863495",
     "exception": false,
     "start_time": "2023-04-28T20:08:22.834270",
     "status": "completed"
    },
    "tags": []
   },
   "outputs": [
    {
     "name": "stdout",
     "output_type": "stream",
     "text": [
      "Epoch 1/75\n",
      "9/9 [==============================] - 11s 1s/step - loss: 1.9688 - accuracy: 0.4527 - val_loss: 1.4541 - val_accuracy: 0.6275\n",
      "Epoch 2/75\n",
      "9/9 [==============================] - 11s 1s/step - loss: 1.1571 - accuracy: 0.7066 - val_loss: 0.7967 - val_accuracy: 0.7961\n",
      "Epoch 3/75\n",
      "9/9 [==============================] - 10s 1s/step - loss: 0.6577 - accuracy: 0.8245 - val_loss: 0.5150 - val_accuracy: 0.8545\n",
      "Epoch 4/75\n",
      "9/9 [==============================] - 10s 1s/step - loss: 0.4577 - accuracy: 0.8677 - val_loss: 0.3981 - val_accuracy: 0.8835\n",
      "Epoch 5/75\n",
      "9/9 [==============================] - 11s 1s/step - loss: 0.3714 - accuracy: 0.8925 - val_loss: 0.3454 - val_accuracy: 0.8994\n",
      "Epoch 6/75\n",
      "9/9 [==============================] - 10s 1s/step - loss: 0.3275 - accuracy: 0.9056 - val_loss: 0.3045 - val_accuracy: 0.9104\n",
      "Epoch 7/75\n",
      "9/9 [==============================] - 10s 1s/step - loss: 0.2956 - accuracy: 0.9153 - val_loss: 0.2826 - val_accuracy: 0.9179\n",
      "Epoch 8/75\n",
      "9/9 [==============================] - 10s 1s/step - loss: 0.2721 - accuracy: 0.9217 - val_loss: 0.2632 - val_accuracy: 0.9217\n",
      "Epoch 9/75\n",
      "9/9 [==============================] - 10s 1s/step - loss: 0.2542 - accuracy: 0.9267 - val_loss: 0.2477 - val_accuracy: 0.9276\n",
      "Epoch 10/75\n",
      "9/9 [==============================] - 10s 1s/step - loss: 0.2384 - accuracy: 0.9326 - val_loss: 0.2344 - val_accuracy: 0.9332\n",
      "Epoch 11/75\n",
      "9/9 [==============================] - 11s 1s/step - loss: 0.2244 - accuracy: 0.9354 - val_loss: 0.2202 - val_accuracy: 0.9365\n",
      "Epoch 12/75\n",
      "9/9 [==============================] - 10s 1s/step - loss: 0.2101 - accuracy: 0.9407 - val_loss: 0.2109 - val_accuracy: 0.9389\n",
      "Epoch 13/75\n",
      "9/9 [==============================] - 10s 1s/step - loss: 0.1983 - accuracy: 0.9425 - val_loss: 0.1991 - val_accuracy: 0.9425\n",
      "Epoch 14/75\n",
      "9/9 [==============================] - 11s 1s/step - loss: 0.1879 - accuracy: 0.9470 - val_loss: 0.1871 - val_accuracy: 0.9463\n",
      "Epoch 15/75\n",
      "9/9 [==============================] - 10s 1s/step - loss: 0.1775 - accuracy: 0.9499 - val_loss: 0.1791 - val_accuracy: 0.9485\n",
      "Epoch 16/75\n",
      "9/9 [==============================] - 10s 1s/step - loss: 0.1676 - accuracy: 0.9513 - val_loss: 0.1681 - val_accuracy: 0.9515\n",
      "Epoch 17/75\n",
      "9/9 [==============================] - 11s 1s/step - loss: 0.1572 - accuracy: 0.9551 - val_loss: 0.1622 - val_accuracy: 0.9538\n",
      "Epoch 18/75\n",
      "9/9 [==============================] - 10s 1s/step - loss: 0.1507 - accuracy: 0.9574 - val_loss: 0.1548 - val_accuracy: 0.9560\n",
      "Epoch 19/75\n",
      "9/9 [==============================] - 10s 1s/step - loss: 0.1429 - accuracy: 0.9600 - val_loss: 0.1476 - val_accuracy: 0.9579\n",
      "Epoch 20/75\n",
      "9/9 [==============================] - 11s 1s/step - loss: 0.1361 - accuracy: 0.9616 - val_loss: 0.1413 - val_accuracy: 0.9585\n",
      "Epoch 21/75\n",
      "9/9 [==============================] - 10s 1s/step - loss: 0.1289 - accuracy: 0.9646 - val_loss: 0.1349 - val_accuracy: 0.9605\n",
      "Epoch 22/75\n",
      "9/9 [==============================] - 10s 1s/step - loss: 0.1234 - accuracy: 0.9654 - val_loss: 0.1305 - val_accuracy: 0.9619\n",
      "Epoch 23/75\n",
      "9/9 [==============================] - 10s 1s/step - loss: 0.1189 - accuracy: 0.9665 - val_loss: 0.1253 - val_accuracy: 0.9652\n",
      "Epoch 24/75\n",
      "9/9 [==============================] - 10s 1s/step - loss: 0.1156 - accuracy: 0.9668 - val_loss: 0.1203 - val_accuracy: 0.9650\n",
      "Epoch 25/75\n",
      "9/9 [==============================] - 10s 1s/step - loss: 0.1101 - accuracy: 0.9689 - val_loss: 0.1192 - val_accuracy: 0.9644\n",
      "Epoch 26/75\n",
      "9/9 [==============================] - 10s 1s/step - loss: 0.1067 - accuracy: 0.9703 - val_loss: 0.1126 - val_accuracy: 0.9669\n",
      "Epoch 27/75\n",
      "9/9 [==============================] - 10s 1s/step - loss: 0.1024 - accuracy: 0.9714 - val_loss: 0.1117 - val_accuracy: 0.9688\n",
      "Epoch 28/75\n",
      "9/9 [==============================] - 10s 1s/step - loss: 0.0993 - accuracy: 0.9718 - val_loss: 0.1060 - val_accuracy: 0.9689\n",
      "Epoch 29/75\n",
      "9/9 [==============================] - 10s 1s/step - loss: 0.0950 - accuracy: 0.9728 - val_loss: 0.1035 - val_accuracy: 0.9687\n",
      "Epoch 30/75\n",
      "9/9 [==============================] - 10s 1s/step - loss: 0.0910 - accuracy: 0.9748 - val_loss: 0.1015 - val_accuracy: 0.9702\n",
      "Epoch 31/75\n",
      "9/9 [==============================] - 10s 1s/step - loss: 0.0895 - accuracy: 0.9746 - val_loss: 0.0979 - val_accuracy: 0.9713\n",
      "Epoch 32/75\n",
      "9/9 [==============================] - 10s 1s/step - loss: 0.0852 - accuracy: 0.9761 - val_loss: 0.0971 - val_accuracy: 0.9724\n",
      "Epoch 33/75\n",
      "9/9 [==============================] - 10s 1s/step - loss: 0.0817 - accuracy: 0.9776 - val_loss: 0.0938 - val_accuracy: 0.9725\n",
      "Epoch 34/75\n",
      "9/9 [==============================] - 10s 1s/step - loss: 0.0802 - accuracy: 0.9771 - val_loss: 0.0912 - val_accuracy: 0.9737\n",
      "Epoch 35/75\n",
      "9/9 [==============================] - 10s 1s/step - loss: 0.0788 - accuracy: 0.9780 - val_loss: 0.0914 - val_accuracy: 0.9730\n",
      "Epoch 36/75\n",
      "9/9 [==============================] - 10s 1s/step - loss: 0.0772 - accuracy: 0.9781 - val_loss: 0.0885 - val_accuracy: 0.9738\n",
      "Epoch 37/75\n",
      "9/9 [==============================] - 10s 1s/step - loss: 0.0752 - accuracy: 0.9784 - val_loss: 0.0873 - val_accuracy: 0.9752\n",
      "Epoch 38/75\n",
      "9/9 [==============================] - 10s 1s/step - loss: 0.0741 - accuracy: 0.9787 - val_loss: 0.0868 - val_accuracy: 0.9752\n",
      "Epoch 39/75\n",
      "9/9 [==============================] - 11s 1s/step - loss: 0.0716 - accuracy: 0.9796 - val_loss: 0.0859 - val_accuracy: 0.9752\n",
      "Epoch 40/75\n",
      "9/9 [==============================] - 10s 1s/step - loss: 0.0701 - accuracy: 0.9789 - val_loss: 0.0837 - val_accuracy: 0.9762\n",
      "Epoch 41/75\n",
      "9/9 [==============================] - 10s 1s/step - loss: 0.0677 - accuracy: 0.9812 - val_loss: 0.0823 - val_accuracy: 0.9764\n",
      "Epoch 42/75\n",
      "9/9 [==============================] - 11s 1s/step - loss: 0.0661 - accuracy: 0.9811 - val_loss: 0.0814 - val_accuracy: 0.9760\n",
      "Epoch 43/75\n",
      "9/9 [==============================] - 10s 1s/step - loss: 0.0655 - accuracy: 0.9813 - val_loss: 0.0785 - val_accuracy: 0.9769\n",
      "Epoch 44/75\n",
      "9/9 [==============================] - 10s 1s/step - loss: 0.0632 - accuracy: 0.9824 - val_loss: 0.0780 - val_accuracy: 0.9762\n",
      "Epoch 45/75\n",
      "9/9 [==============================] - 11s 1s/step - loss: 0.0622 - accuracy: 0.9824 - val_loss: 0.0781 - val_accuracy: 0.9777\n",
      "Epoch 46/75\n",
      "9/9 [==============================] - 10s 1s/step - loss: 0.0610 - accuracy: 0.9829 - val_loss: 0.0785 - val_accuracy: 0.9773\n",
      "Epoch 47/75\n",
      "9/9 [==============================] - 10s 1s/step - loss: 0.0590 - accuracy: 0.9832 - val_loss: 0.0767 - val_accuracy: 0.9775\n",
      "Epoch 48/75\n",
      "9/9 [==============================] - 11s 1s/step - loss: 0.0576 - accuracy: 0.9834 - val_loss: 0.0748 - val_accuracy: 0.9792\n",
      "Epoch 49/75\n",
      "9/9 [==============================] - 10s 1s/step - loss: 0.0581 - accuracy: 0.9835 - val_loss: 0.0751 - val_accuracy: 0.9775\n",
      "Epoch 50/75\n",
      "9/9 [==============================] - 10s 1s/step - loss: 0.0564 - accuracy: 0.9825 - val_loss: 0.0742 - val_accuracy: 0.9786\n",
      "Epoch 51/75\n",
      "9/9 [==============================] - 11s 1s/step - loss: 0.0549 - accuracy: 0.9845 - val_loss: 0.0721 - val_accuracy: 0.9790\n",
      "Epoch 52/75\n",
      "9/9 [==============================] - 10s 1s/step - loss: 0.0554 - accuracy: 0.9841 - val_loss: 0.0735 - val_accuracy: 0.9774\n",
      "Epoch 53/75\n",
      "9/9 [==============================] - 10s 1s/step - loss: 0.0551 - accuracy: 0.9841 - val_loss: 0.0748 - val_accuracy: 0.9770\n",
      "Epoch 54/75\n",
      "9/9 [==============================] - 11s 1s/step - loss: 0.0532 - accuracy: 0.9840 - val_loss: 0.0712 - val_accuracy: 0.9785\n",
      "Epoch 55/75\n",
      "9/9 [==============================] - 10s 1s/step - loss: 0.0515 - accuracy: 0.9848 - val_loss: 0.0708 - val_accuracy: 0.9788\n",
      "Epoch 56/75\n",
      "9/9 [==============================] - 10s 1s/step - loss: 0.0498 - accuracy: 0.9851 - val_loss: 0.0697 - val_accuracy: 0.9794\n",
      "Epoch 57/75\n",
      "9/9 [==============================] - 10s 1s/step - loss: 0.0487 - accuracy: 0.9862 - val_loss: 0.0710 - val_accuracy: 0.9780\n",
      "Epoch 58/75\n",
      "9/9 [==============================] - 10s 1s/step - loss: 0.0479 - accuracy: 0.9861 - val_loss: 0.0692 - val_accuracy: 0.9788\n",
      "Epoch 59/75\n",
      "9/9 [==============================] - 10s 1s/step - loss: 0.0475 - accuracy: 0.9859 - val_loss: 0.0681 - val_accuracy: 0.9795\n",
      "Epoch 60/75\n",
      "9/9 [==============================] - 10s 1s/step - loss: 0.0463 - accuracy: 0.9861 - val_loss: 0.0680 - val_accuracy: 0.9804\n",
      "Epoch 61/75\n",
      "9/9 [==============================] - 10s 1s/step - loss: 0.0449 - accuracy: 0.9874 - val_loss: 0.0665 - val_accuracy: 0.9801\n",
      "Epoch 62/75\n",
      "9/9 [==============================] - 10s 1s/step - loss: 0.0459 - accuracy: 0.9864 - val_loss: 0.0673 - val_accuracy: 0.9801\n",
      "Epoch 63/75\n",
      "9/9 [==============================] - 11s 1s/step - loss: 0.0451 - accuracy: 0.9866 - val_loss: 0.0661 - val_accuracy: 0.9796\n",
      "Epoch 64/75\n",
      "9/9 [==============================] - 10s 1s/step - loss: 0.0444 - accuracy: 0.9866 - val_loss: 0.0661 - val_accuracy: 0.9804\n",
      "Epoch 65/75\n",
      "9/9 [==============================] - 10s 1s/step - loss: 0.0440 - accuracy: 0.9874 - val_loss: 0.0659 - val_accuracy: 0.9804\n",
      "Epoch 66/75\n",
      "9/9 [==============================] - 10s 1s/step - loss: 0.0430 - accuracy: 0.9873 - val_loss: 0.0656 - val_accuracy: 0.9808\n",
      "Epoch 67/75\n",
      "9/9 [==============================] - 10s 1s/step - loss: 0.0413 - accuracy: 0.9879 - val_loss: 0.0648 - val_accuracy: 0.9804\n",
      "Epoch 68/75\n",
      "9/9 [==============================] - 10s 1s/step - loss: 0.0403 - accuracy: 0.9884 - val_loss: 0.0643 - val_accuracy: 0.9810\n",
      "Epoch 69/75\n",
      "9/9 [==============================] - 10s 1s/step - loss: 0.0384 - accuracy: 0.9888 - val_loss: 0.0646 - val_accuracy: 0.9801\n",
      "Epoch 70/75\n",
      "9/9 [==============================] - 10s 1s/step - loss: 0.0401 - accuracy: 0.9880 - val_loss: 0.0654 - val_accuracy: 0.9798\n",
      "Epoch 71/75\n",
      "9/9 [==============================] - 10s 1s/step - loss: 0.0388 - accuracy: 0.9893 - val_loss: 0.0638 - val_accuracy: 0.9814\n",
      "Epoch 72/75\n",
      "9/9 [==============================] - 10s 1s/step - loss: 0.0376 - accuracy: 0.9895 - val_loss: 0.0629 - val_accuracy: 0.9812\n",
      "Epoch 73/75\n",
      "9/9 [==============================] - 10s 1s/step - loss: 0.0382 - accuracy: 0.9886 - val_loss: 0.0634 - val_accuracy: 0.9814\n",
      "Epoch 74/75\n",
      "9/9 [==============================] - 10s 1s/step - loss: 0.0371 - accuracy: 0.9889 - val_loss: 0.0629 - val_accuracy: 0.9818\n",
      "Epoch 75/75\n",
      "9/9 [==============================] - 10s 1s/step - loss: 0.0360 - accuracy: 0.9893 - val_loss: 0.0633 - val_accuracy: 0.9806\n"
     ]
    }
   ],
   "source": [
    "history = cnn_model.fit(\n",
    "    x_train,\n",
    "    y_train,\n",
    "    batch_size=4096,\n",
    "    epochs=75,\n",
    "    verbose=1,\n",
    "    validation_data=(x_validate,y_validate),\n",
    ")"
   ]
  },
  {
   "cell_type": "code",
   "execution_count": 21,
   "id": "46174461",
   "metadata": {
    "execution": {
     "iopub.execute_input": "2023-04-28T20:21:16.977135Z",
     "iopub.status.busy": "2023-04-28T20:21:16.976717Z",
     "iopub.status.idle": "2023-04-28T20:21:18.384558Z",
     "shell.execute_reply": "2023-04-28T20:21:18.383287Z"
    },
    "papermill": {
     "duration": 1.468428,
     "end_time": "2023-04-28T20:21:18.387387",
     "exception": false,
     "start_time": "2023-04-28T20:21:16.918959",
     "status": "completed"
    },
    "tags": []
   },
   "outputs": [
    {
     "data": {
      "image/png": "[encoded data removed]",
      "text/plain": [
       "<Figure size 1000x1000 with 36 Axes>"
      ]
     },
     "metadata": {},
     "output_type": "display_data"
    }
   ],
   "source": [
    "import matplotlib.pyplot as plt\n",
    "\n",
    "class_names = [str(i) for i in range(10)]\n",
    "plt.figure(figsize=(10, 10))\n",
    "for i in range(36):\n",
    "    plt.subplot(6, 6, i + 1)\n",
    "    plt.xticks([])\n",
    "    plt.yticks([])\n",
    "    plt.grid(False)\n",
    "    plt.imshow(x_train[i].reshape((28,28)))\n",
    "    label_index = int(y_train[i])\n",
    "    plt.title(class_names[label_index])\n",
    "plt.show()"
   ]
  },
  {
   "cell_type": "code",
   "execution_count": 22,
   "id": "7346f6f9",
   "metadata": {
    "execution": {
     "iopub.execute_input": "2023-04-28T20:21:18.512865Z",
     "iopub.status.busy": "2023-04-28T20:21:18.511847Z",
     "iopub.status.idle": "2023-04-28T20:21:18.519276Z",
     "shell.execute_reply": "2023-04-28T20:21:18.518297Z"
    },
    "papermill": {
     "duration": 0.076596,
     "end_time": "2023-04-28T20:21:18.521506",
     "exception": false,
     "start_time": "2023-04-28T20:21:18.444910",
     "status": "completed"
    },
    "tags": []
   },
   "outputs": [
    {
     "data": {
      "text/plain": [
       "dict_keys(['loss', 'accuracy', 'val_loss', 'val_accuracy'])"
      ]
     },
     "execution_count": 22,
     "metadata": {},
     "output_type": "execute_result"
    }
   ],
   "source": [
    "history.history.keys()\n"
   ]
  },
  {
   "cell_type": "code",
   "execution_count": 23,
   "id": "53158dbb",
   "metadata": {
    "execution": {
     "iopub.execute_input": "2023-04-28T20:21:18.639199Z",
     "iopub.status.busy": "2023-04-28T20:21:18.638434Z",
     "iopub.status.idle": "2023-04-28T20:21:19.041491Z",
     "shell.execute_reply": "2023-04-28T20:21:19.040352Z"
    },
    "papermill": {
     "duration": 0.465503,
     "end_time": "2023-04-28T20:21:19.044410",
     "exception": false,
     "start_time": "2023-04-28T20:21:18.578907",
     "status": "completed"
    },
    "tags": []
   },
   "outputs": [
    {
     "data": {
      "text/plain": [
       "Text(0.5, 1.0, 'Train - Accuracy')"
      ]
     },
     "execution_count": 23,
     "metadata": {},
     "output_type": "execute_result"
    },
    {
     "data": {
      "image/png": "[encoded data removed]",
      "text/plain": [
       "<Figure size 1000x1000 with 2 Axes>"
      ]
     },
     "metadata": {},
     "output_type": "display_data"
    }
   ],
   "source": [
    "plt.figure(figsize=(10, 10))\n",
    "\n",
    "plt.subplot(2, 2, 1)\n",
    "plt.plot(history.history['loss'], label='Loss')\n",
    "plt.plot(history.history['val_loss'], label='Validation Loss')\n",
    "plt.legend()\n",
    "plt.title('Training - Loss Function')\n",
    "\n",
    "plt.subplot(2, 2, 2)\n",
    "plt.plot(history.history['accuracy'], label='Accuracy')\n",
    "plt.plot(history.history['val_accuracy'], label='Validation Accuracy')\n",
    "plt.legend()\n",
    "plt.title('Train - Accuracy')"
   ]
  },
  {
   "cell_type": "code",
   "execution_count": 24,
   "id": "7c679ad7",
   "metadata": {
    "execution": {
     "iopub.execute_input": "2023-04-28T20:21:19.165632Z",
     "iopub.status.busy": "2023-04-28T20:21:19.164877Z",
     "iopub.status.idle": "2023-04-28T20:21:24.534875Z",
     "shell.execute_reply": "2023-04-28T20:21:24.533790Z"
    },
    "papermill": {
     "duration": 5.432961,
     "end_time": "2023-04-28T20:21:24.537980",
     "exception": false,
     "start_time": "2023-04-28T20:21:19.105019",
     "status": "completed"
    },
    "tags": []
   },
   "outputs": [
    {
     "name": "stdout",
     "output_type": "stream",
     "text": [
      "875/875 [==============================] - 3s 3ms/step\n"
     ]
    }
   ],
   "source": [
    "cnn_array = cnn_model.predict(x_test)"
   ]
  },
  {
   "cell_type": "code",
   "execution_count": 25,
   "id": "18c86cb0",
   "metadata": {
    "execution": {
     "iopub.execute_input": "2023-04-28T20:21:24.663027Z",
     "iopub.status.busy": "2023-04-28T20:21:24.661822Z",
     "iopub.status.idle": "2023-04-28T20:21:24.723987Z",
     "shell.execute_reply": "2023-04-28T20:21:24.722825Z"
    },
    "papermill": {
     "duration": 0.127085,
     "end_time": "2023-04-28T20:21:24.726635",
     "exception": false,
     "start_time": "2023-04-28T20:21:24.599550",
     "status": "completed"
    },
    "tags": []
   },
   "outputs": [],
   "source": [
    "cnn_label_array = [np.argmax(cnn_array[i]) for i in range(len(cnn_array))]"
   ]
  },
  {
   "cell_type": "code",
   "execution_count": 26,
   "id": "2b4e90e1",
   "metadata": {
    "execution": {
     "iopub.execute_input": "2023-04-28T20:21:24.849745Z",
     "iopub.status.busy": "2023-04-28T20:21:24.849234Z",
     "iopub.status.idle": "2023-04-28T20:21:24.914898Z",
     "shell.execute_reply": "2023-04-28T20:21:24.914007Z"
    },
    "papermill": {
     "duration": 0.130185,
     "end_time": "2023-04-28T20:21:24.917460",
     "exception": false,
     "start_time": "2023-04-28T20:21:24.787275",
     "status": "completed"
    },
    "tags": []
   },
   "outputs": [],
   "source": [
    "cnn_output_df = pd.DataFrame()\n",
    "cnn_output_df['Label'] = cnn_label_array\n",
    "cnn_output_df.index +=1\n",
    "cnn_output_df.index.name = \"ImageId\"\n",
    "cnn_output_df.to_csv('/kaggle/working/submission.csv')"
   ]
  },
  {
   "cell_type": "code",
   "execution_count": null,
   "id": "99fc88f2",
   "metadata": {
    "papermill": {
     "duration": 0.073293,
     "end_time": "2023-04-28T20:21:25.056753",
     "exception": false,
     "start_time": "2023-04-28T20:21:24.983460",
     "status": "completed"
    },
    "tags": []
   },
   "outputs": [],
   "source": []
  }
 ],
 "metadata": {
  "kernelspec": {
   "display_name": "Python 3",
   "language": "python",
   "name": "python3"
  },
  "language_info": {
   "codemirror_mode": {
    "name": "ipython",
    "version": 3
   },
   "file_extension": ".py",
   "mimetype": "text/x-python",
   "name": "python",
   "nbconvert_exporter": "python",
   "pygments_lexer": "ipython3",
   "version": "3.7.12"
  },
  "papermill": {
   "default_parameters": {},
   "duration": 839.221565,
   "end_time": "2023-04-28T20:21:28.443237",
   "environment_variables": {},
   "exception": null,
   "input_path": "__notebook__.ipynb",
   "output_path": "__notebook__.ipynb",
   "parameters": {},
   "start_time": "2023-04-28T20:07:29.221672",
   "version": "2.4.0"
  }
 },
 "nbformat": 4,
 "nbformat_minor": 5
}
