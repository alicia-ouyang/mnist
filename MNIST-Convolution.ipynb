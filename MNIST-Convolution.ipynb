{
 "cells": [
  {
   "cell_type": "markdown",
   "id": "4c7d6ca7-0ff0-4f44-b75a-ee98fe47119c",
   "metadata": {},
   "source": [
    "#### Team Data Navigators - MNIST Convolution Assignment\n",
    "Please implement a 2D convolution function to apply to MNIST dataset"
   ]
  },
  {
   "cell_type": "code",
   "execution_count": null,
   "id": "1c94bbc8-e68f-4311-b250-b064b5ab05fe",
   "metadata": {},
   "outputs": [],
   "source": [
    "import sklearn \n",
    "import matplotlib.pyplot as plt\n",
    "import numpy as np"
   ]
  },
  {
   "cell_type": "code",
   "execution_count": null,
   "id": "8fcba0e7-f1f7-4dcd-b2c5-326dc5c33f7e",
   "metadata": {},
   "outputs": [],
   "source": [
    "%matplotlib inline"
   ]
  },
  {
   "cell_type": "markdown",
   "id": "7841c426-122b-451f-bdfa-ea157bfe53b5",
   "metadata": {},
   "source": [
    "### Loading and plotting reduced MNIST dataset"
   ]
  },
  {
   "cell_type": "code",
   "execution_count": null,
   "id": "16f76cd8-2a91-4d5f-a6fd-e5f0198eb066",
   "metadata": {},
   "outputs": [],
   "source": [
    "from sklearn.datasets import load_digits\n",
    "digits = load_digits()"
   ]
  },
  {
   "cell_type": "code",
   "execution_count": null,
   "id": "95dbbddf-cfe3-4701-bb9f-7e945e4a7d11",
   "metadata": {},
   "outputs": [],
   "source": [
    "type(digits)"
   ]
  },
  {
   "cell_type": "code",
   "execution_count": null,
   "id": "ff75cc15-6dbf-44dc-87eb-88a081e9378c",
   "metadata": {},
   "outputs": [],
   "source": [
    "# Print to show there are 1797 images (8 by 8 images for a dimensionality of 64)\n",
    "print(\"Image Data Shape\" , digits.data.shape)# Print to show there are 1797 labels (integers from 0–9)\n",
    "print(\"Label Data Shape\", digits.target.shape)"
   ]
  },
  {
   "cell_type": "code",
   "execution_count": null,
   "id": "4e0e2f58-c807-48dc-94fd-c4d5db6572a9",
   "metadata": {},
   "outputs": [],
   "source": [
    "digits.data[1], digits.target[1]"
   ]
  },
  {
   "cell_type": "code",
   "execution_count": null,
   "id": "c146ba3d-7ecb-4cdd-b10c-e0f22bc4d352",
   "metadata": {},
   "outputs": [],
   "source": [
    "fig, ax = plt.subplots(3,5)\n",
    "ax = ax.flatten()\n",
    "for i in range(15):\n",
    "    im_idx = i\n",
    "    # Note: reshape is 8x8 as it is reduced dataset\n",
    "    plottable_image = np.reshape(digits.data[im_idx], (8, 8)) \n",
    "    ax[i].imshow(plottable_image, cmap='gray_r')\n",
    "    ax[i].set_title(digits.target[im_idx])"
   ]
  },
  {
   "cell_type": "markdown",
   "id": "774540f0-bd3e-4d5e-ad97-1985043b5c40",
   "metadata": {},
   "source": [
    "### Loading full MNIST dataset from OpenML via SKLearn"
   ]
  },
  {
   "cell_type": "code",
   "execution_count": null,
   "id": "86f1b86d-33ab-44ee-bb0a-d5846d044bbd",
   "metadata": {},
   "outputs": [],
   "source": [
    "from sklearn.datasets import fetch_openml\n",
    "mnist = fetch_openml('mnist_784')"
   ]
  },
  {
   "cell_type": "code",
   "execution_count": null,
   "id": "08feb330-f829-49f1-a9c3-efe82a12f96f",
   "metadata": {},
   "outputs": [],
   "source": [
    "type(mnist.data)"
   ]
  },
  {
   "cell_type": "code",
   "execution_count": null,
   "id": "79936d5d-8862-4dd5-9d8a-1559d8f7cf2d",
   "metadata": {},
   "outputs": [],
   "source": [
    "mnist.data"
   ]
  },
  {
   "cell_type": "code",
   "execution_count": null,
   "id": "e06e66a7-8073-4d74-8764-f748877c12dc",
   "metadata": {},
   "outputs": [],
   "source": [
    "fig, ax = plt.subplots(3,5)\n",
    "ax = ax.flatten()\n",
    "for i in range(15):\n",
    "    im_idx = i\n",
    "    # Note: reshape is 28x28 as it is full dataset\n",
    "    plottable_image = np.reshape(list(mnist.data.iloc[im_idx]), (28, 28))\n",
    "    ax[i].imshow(plottable_image, cmap='gray_r')\n",
    "    ax[i].set_title(mnist.target[im_idx])"
   ]
  },
  {
   "cell_type": "markdown",
   "id": "7aa869cc-4942-4211-9f8c-18f779fc084d",
   "metadata": {},
   "source": [
    "### Assignment - Implement a 2D convolution function"
   ]
  },
  {
   "cell_type": "code",
   "execution_count": null,
   "id": "e83c1442-e71c-46fc-a1a8-eced6e21959a",
   "metadata": {},
   "outputs": [],
   "source": [
    "def convolve2D(image, kernel, padding=0, strides=1):\n",
    "    # Cross Correlation -- The kernel needs to be inverted before applying\n",
    "    kernel = np.flipud(np.fliplr(kernel))\n",
    "\n",
    "    # Add code here \n",
    "    \n",
    "    return output"
   ]
  },
  {
   "cell_type": "markdown",
   "id": "bf3335a4-b260-4c48-8bf6-394a14a205fa",
   "metadata": {},
   "source": [
    "#### Tests - the following code should run correctly if your function is correctly implemented"
   ]
  },
  {
   "cell_type": "code",
   "execution_count": null,
   "id": "730a7eef-e26b-4ffd-a0cb-ab266e725f7d",
   "metadata": {},
   "outputs": [],
   "source": [
    "# Horizontal Edge detection kernel/filter\n",
    "kernel = np.array([[-1, -1, -1], \n",
    "                   [2, 2, 2], \n",
    "                   [-1, -1, -1]])\n",
    "\n",
    "# Plotting the digits\n",
    "fig, ax = plt.subplots(3,5)\n",
    "ax = ax.flatten()\n",
    "for i in range(15):\n",
    "    im_idx = i\n",
    "    plottable_image = np.reshape(list(mnist.data.iloc[im_idx]), (28, 28))\n",
    "    # Applying the kernel\n",
    "    convolution = convolve2D(plottable_image, kernel)\n",
    "    ax[i].imshow(convolution, cmap='gray_r')\n",
    "    ax[i].set_title(mnist.target[im_idx])"
   ]
  },
  {
   "cell_type": "code",
   "execution_count": null,
   "id": "6f61c1fd-55c2-4017-a4eb-ccf0ad04d208",
   "metadata": {},
   "outputs": [],
   "source": [
    "# Vertical Edge detection\n",
    "kernel = np.array([[-1, 2, -1], \n",
    "                   [-1, 2, -1], \n",
    "                   [-1, 2, -1]])\n",
    "\n",
    "# Plotting the digits\n",
    "fig, ax = plt.subplots(3,5)\n",
    "ax = ax.flatten()\n",
    "for i in range(15):\n",
    "    im_idx = i\n",
    "    plottable_image = np.reshape(list(mnist.data.iloc[im_idx]), (28, 28))\n",
    "    # Applying the kernel\n",
    "    convolution = convolve2D(plottable_image, kernel)\n",
    "    ax[i].imshow(convolution, cmap='gray_r')\n",
    "    ax[i].set_title(mnist.target[im_idx])"
   ]
  },
  {
   "cell_type": "code",
   "execution_count": null,
   "id": "920f6d89-00d7-4acf-8782-8a0ce3bbc437",
   "metadata": {},
   "outputs": [],
   "source": [
    "# Edge detection kernel\n",
    "kernel = np.array([[-1, -1, -1], \n",
    "                   [-1, 8, -1], \n",
    "                   [-1, -1, -1]])\n",
    "\n",
    "# Plotting the digits\n",
    "fig, ax = plt.subplots(3,5)\n",
    "ax = ax.flatten()\n",
    "for i in range(15):\n",
    "    im_idx = i\n",
    "    plottable_image = np.reshape(list(mnist.data.iloc[im_idx]), (28, 28))\n",
    "    # Applying the kernel\n",
    "    convolution = convolve2D(plottable_image, kernel)\n",
    "    ax[i].imshow(convolution, cmap='gray_r')\n",
    "    ax[i].set_title(mnist.target[im_idx])"
   ]
  },
  {
   "cell_type": "markdown",
   "id": "d3a4122c-77d9-4268-a220-cb86042cbf25",
   "metadata": {},
   "source": [
    "### TODO: Load other datasets and images and apply convolution filters to them"
   ]
  },
  {
   "cell_type": "code",
   "execution_count": null,
   "id": "845c0c3e-d602-415f-b01a-2f483b909128",
   "metadata": {},
   "outputs": [],
   "source": []
  }
 ],
 "metadata": {
  "kernelspec": {
   "display_name": "Python 3 (ipykernel)",
   "language": "python",
   "name": "python3"
  },
  "language_info": {
   "codemirror_mode": {
    "name": "ipython",
    "version": 3
   },
   "file_extension": ".py",
   "mimetype": "text/x-python",
   "name": "python",
   "nbconvert_exporter": "python",
   "pygments_lexer": "ipython3",
   "version": "3.8.16"
  }
 },
 "nbformat": 4,
 "nbformat_minor": 5
}
